{
  "cells": [
    {
      "cell_type": "markdown",
      "metadata": {
        "id": "wQrGNncLKbVj"
      },
      "source": [
        "### Montagem do Google Drive"
      ]
    },
    {
      "cell_type": "code",
      "execution_count": null,
      "metadata": {
        "colab": {
          "base_uri": "https://localhost:8080/"
        },
        "id": "DNNjOnDucNrc",
        "outputId": "2aa0bf2a-4721-4165-db78-37378eed654a"
      },
      "outputs": [
        {
          "output_type": "stream",
          "name": "stdout",
          "text": [
            "Drive already mounted at /content/drive; to attempt to forcibly remount, call drive.mount(\"/content/drive\", force_remount=True).\n"
          ]
        }
      ],
      "source": [
        "# Importar bibliotecas necessárias para manipulação de arquivos\n",
        "import os\n",
        "import shutil\n",
        "\n",
        "# Definir o caminho de montagem do Google Drive\n",
        "mount_path = '/content/drive'\n",
        "\n",
        "# Montar o Google Drive\n",
        "from google.colab import drive\n",
        "drive.mount(mount_path)\n"
      ]
    },
    {
      "cell_type": "code",
      "execution_count": null,
      "metadata": {
        "colab": {
          "base_uri": "https://localhost:8080/"
        },
        "id": "HN60QDtqUxSZ",
        "outputId": "c5ab86f2-7c46-45a6-a9e2-b8480cc9c468"
      },
      "outputs": [
        {
          "output_type": "stream",
          "name": "stdout",
          "text": [
            "Collecting PyWavelets\n",
            "  Downloading pywavelets-1.8.0-cp311-cp311-manylinux_2_17_x86_64.manylinux2014_x86_64.whl.metadata (9.0 kB)\n",
            "Requirement already satisfied: librosa in /usr/local/lib/python3.11/dist-packages (0.11.0)\n",
            "Requirement already satisfied: pillow in /usr/local/lib/python3.11/dist-packages (11.3.0)\n",
            "Requirement already satisfied: numpy<3,>=1.23 in /usr/local/lib/python3.11/dist-packages (from PyWavelets) (2.0.2)\n",
            "Requirement already satisfied: audioread>=2.1.9 in /usr/local/lib/python3.11/dist-packages (from librosa) (3.0.1)\n",
            "Requirement already satisfied: numba>=0.51.0 in /usr/local/lib/python3.11/dist-packages (from librosa) (0.61.2)\n",
            "Requirement already satisfied: scipy>=1.6.0 in /usr/local/lib/python3.11/dist-packages (from librosa) (1.15.3)\n",
            "Requirement already satisfied: scikit-learn>=1.1.0 in /usr/local/lib/python3.11/dist-packages (from librosa) (1.6.1)\n",
            "Requirement already satisfied: joblib>=1.0 in /usr/local/lib/python3.11/dist-packages (from librosa) (1.5.1)\n",
            "Requirement already satisfied: decorator>=4.3.0 in /usr/local/lib/python3.11/dist-packages (from librosa) (5.2.1)\n",
            "Requirement already satisfied: soundfile>=0.12.1 in /usr/local/lib/python3.11/dist-packages (from librosa) (0.13.1)\n",
            "Requirement already satisfied: pooch>=1.1 in /usr/local/lib/python3.11/dist-packages (from librosa) (1.8.2)\n",
            "Requirement already satisfied: soxr>=0.3.2 in /usr/local/lib/python3.11/dist-packages (from librosa) (0.5.0.post1)\n",
            "Requirement already satisfied: typing_extensions>=4.1.1 in /usr/local/lib/python3.11/dist-packages (from librosa) (4.14.1)\n",
            "Requirement already satisfied: lazy_loader>=0.1 in /usr/local/lib/python3.11/dist-packages (from librosa) (0.4)\n",
            "Requirement already satisfied: msgpack>=1.0 in /usr/local/lib/python3.11/dist-packages (from librosa) (1.1.1)\n",
            "Requirement already satisfied: packaging in /usr/local/lib/python3.11/dist-packages (from lazy_loader>=0.1->librosa) (25.0)\n",
            "Requirement already satisfied: llvmlite<0.45,>=0.44.0dev0 in /usr/local/lib/python3.11/dist-packages (from numba>=0.51.0->librosa) (0.44.0)\n",
            "Requirement already satisfied: platformdirs>=2.5.0 in /usr/local/lib/python3.11/dist-packages (from pooch>=1.1->librosa) (4.3.8)\n",
            "Requirement already satisfied: requests>=2.19.0 in /usr/local/lib/python3.11/dist-packages (from pooch>=1.1->librosa) (2.32.3)\n",
            "Requirement already satisfied: threadpoolctl>=3.1.0 in /usr/local/lib/python3.11/dist-packages (from scikit-learn>=1.1.0->librosa) (3.6.0)\n",
            "Requirement already satisfied: cffi>=1.0 in /usr/local/lib/python3.11/dist-packages (from soundfile>=0.12.1->librosa) (1.17.1)\n",
            "Requirement already satisfied: pycparser in /usr/local/lib/python3.11/dist-packages (from cffi>=1.0->soundfile>=0.12.1->librosa) (2.22)\n",
            "Requirement already satisfied: charset-normalizer<4,>=2 in /usr/local/lib/python3.11/dist-packages (from requests>=2.19.0->pooch>=1.1->librosa) (3.4.2)\n",
            "Requirement already satisfied: idna<4,>=2.5 in /usr/local/lib/python3.11/dist-packages (from requests>=2.19.0->pooch>=1.1->librosa) (3.10)\n",
            "Requirement already satisfied: urllib3<3,>=1.21.1 in /usr/local/lib/python3.11/dist-packages (from requests>=2.19.0->pooch>=1.1->librosa) (2.4.0)\n",
            "Requirement already satisfied: certifi>=2017.4.17 in /usr/local/lib/python3.11/dist-packages (from requests>=2.19.0->pooch>=1.1->librosa) (2025.6.15)\n",
            "Downloading pywavelets-1.8.0-cp311-cp311-manylinux_2_17_x86_64.manylinux2014_x86_64.whl (4.5 MB)\n",
            "\u001b[2K   \u001b[90m━━━━━━━━━━━━━━━━━━━━━━━━━━━━━━━━━━━━━━━━\u001b[0m \u001b[32m4.5/4.5 MB\u001b[0m \u001b[31m40.0 MB/s\u001b[0m eta \u001b[36m0:00:00\u001b[0m\n",
            "\u001b[?25hInstalling collected packages: PyWavelets\n",
            "Successfully installed PyWavelets-1.8.0\n"
          ]
        }
      ],
      "source": [
        "!pip install PyWavelets librosa pillow\n"
      ]
    },
    {
      "cell_type": "markdown",
      "metadata": {
        "id": "J_9msUzQKpIS"
      },
      "source": [
        "### Importação de Bibliotecas e Configuração Inicial"
      ]
    },
    {
      "cell_type": "code",
      "execution_count": null,
      "metadata": {
        "id": "puysOIiG2mvE"
      },
      "outputs": [],
      "source": [
        "# Importando bibliotecas essenciais\n",
        "import os\n",
        "import librosa\n",
        "import librosa.display\n",
        "import pywt\n",
        "import numpy as np\n",
        "import matplotlib.pyplot as plt\n",
        "import gc  # Gerenciamento manual de memória\n",
        "from tqdm import tqdm  # Barra de progresso para loops\n",
        "\n",
        "# Definindo caminhos principais\n",
        "base_path = \"/content/drive/MyDrive/FoR/for-2sec/for-2seconds\"\n",
        "output_base_path = \"/content/drive/MyDrive/Datasets_Scalograms/CMorl\"\n",
        "# output_base_path = \"/content/drive/MyDrive/Datasets_Scalograms/Morl\"\n",
        "# output_base_path = \"/content/drive/MyDrive/Datasets_Scalograms/MexicanHat\"\n",
        "os.makedirs(output_base_path, exist_ok=True)\n",
        "\n",
        "# Definindo categorias e subcategorias da base de dados\n",
        "categories = ['training', 'testing', 'validation']\n",
        "subcategories = ['fake', 'real']\n",
        "\n",
        "# Configurações globais\n",
        "sampling_rate = 16000         # Taxa de amostragem uniforme\n",
        "target_size = (224, 224)       # Tamanho alvo das imagens em pixels\n",
        "\n",
        "# Família de wavelet utilizada\n",
        "wavelet = 'cmor1.5-1.0'\n",
        "# wavelet = 'morl'\n",
        "# wavelet = 'mxhat'\n"
      ]
    },
    {
      "cell_type": "markdown",
      "metadata": {
        "id": "PykMJHyaKsRy"
      },
      "source": [
        "### Função para Processar e Salvar Escalogramas"
      ]
    },
    {
      "cell_type": "code",
      "execution_count": null,
      "metadata": {
        "id": "-72mqsRhKvEq"
      },
      "outputs": [],
      "source": [
        "def process_and_save_scalogram(audio_path, output_path):\n",
        "\n",
        "    # Verificando se o arquivo de saída já existe\n",
        "    if os.path.exists(output_path):\n",
        "        return\n",
        "\n",
        "    try:\n",
        "        # Carregando o áudio, forçando a taxa de amostragem desejada\n",
        "        signal, sr = librosa.load(audio_path, sr=sampling_rate)\n",
        "\n",
        "        # Normalizando o sinal para o intervalo [-1, 1]\n",
        "        signal = signal / np.max(np.abs(signal))\n",
        "\n",
        "        # Aplicando a Transformada Wavelet Contínua\n",
        "        scales = np.arange(1, 128)  # Escalas de análise\n",
        "        coefficients, _ = pywt.cwt(signal, scales, wavelet)\n",
        "\n",
        "        # Gerando a figura do escalograma\n",
        "        plt.figure(figsize=(5, 5), dpi=250)  # Tamanho e resolução\n",
        "        plt.axis('on')                      # Remover eixos da imagem\n",
        "        plt.imshow(np.abs(coefficients), aspect='auto', cmap='magma')\n",
        "        plt.savefig(output_path, bbox_inches='tight', pad_inches=0)\n",
        "        plt.close()\n",
        "\n",
        "        # Liberando memória após processamento\n",
        "        gc.collect()\n",
        "\n",
        "    except Exception as e:\n",
        "        print(f\"Erro ao processar '{audio_path}': {e}\")\n"
      ]
    },
    {
      "cell_type": "markdown",
      "metadata": {
        "id": "sLK-evZ5Kxdy"
      },
      "source": [
        "### Execução do Pipeline de Processamento"
      ]
    },
    {
      "cell_type": "code",
      "execution_count": null,
      "metadata": {
        "colab": {
          "base_uri": "https://localhost:8080/"
        },
        "id": "_Ms42eJIKyhD",
        "outputId": "139eeaa3-71a3-4032-9ef9-e54ce2cd1c2f"
      },
      "outputs": [
        {
          "output_type": "stream",
          "name": "stderr",
          "text": [
            "Processando training/fake: 100%|██████████| 6978/6978 [00:29<00:00, 238.74it/s] \n",
            "Processando training/real: 100%|██████████| 6978/6978 [00:34<00:00, 200.41it/s] \n",
            "Processando testing/fake: 100%|██████████| 545/545 [00:02<00:00, 213.53it/s]\n",
            "Processando testing/real: 100%|██████████| 544/544 [00:02<00:00, 222.47it/s]\n",
            "Processando validation/fake: 100%|██████████| 1413/1413 [00:07<00:00, 200.50it/s]\n",
            "Processando validation/real: 100%|██████████| 1413/1413 [00:04<00:00, 290.86it/s]"
          ]
        },
        {
          "output_type": "stream",
          "name": "stdout",
          "text": [
            "\n",
            "Processamento concluído com sucesso!\n"
          ]
        },
        {
          "output_type": "stream",
          "name": "stderr",
          "text": [
            "\n"
          ]
        }
      ],
      "source": [
        "# Percorrendo todas as categorias e subcategorias para processamento\n",
        "for category in categories:\n",
        "    for subcategory in subcategories:\n",
        "        input_folder = os.path.join(base_path, category, subcategory)\n",
        "        output_folder = os.path.join(output_base_path, category, subcategory)\n",
        "        os.makedirs(output_folder, exist_ok=True)  # Garantir que o diretório de saída existe\n",
        "\n",
        "        # Listando e processando todos os arquivos .wav\n",
        "        for file in tqdm(os.listdir(input_folder), desc=f\"Processando {category}/{subcategory}\"):\n",
        "            if file.endswith(\".wav\"):\n",
        "                input_path = os.path.join(input_folder, file)\n",
        "                output_path = os.path.join(output_folder, file.replace(\".wav\", \".png\"))\n",
        "                process_and_save_scalogram(input_path, output_path)\n",
        "\n",
        "print(\"\\nProcessamento concluído com sucesso!\")\n"
      ]
    }
  ],
  "metadata": {
    "accelerator": "TPU",
    "colab": {
      "gpuType": "V28",
      "provenance": []
    },
    "kernelspec": {
      "display_name": "Python 3",
      "name": "python3"
    },
    "language_info": {
      "name": "python"
    }
  },
  "nbformat": 4,
  "nbformat_minor": 0
}